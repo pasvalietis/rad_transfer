{
 "cells": [
  {
   "cell_type": "markdown",
   "metadata": {},
   "source": [
    "# How to selectively download a pair of AIA/SDO and EUVI/STEREO images\n",
    "How to use Fido.search to collect a pair of time-correlated events using a sunpy Fido query."
   ]
  },
  {
   "cell_type": "markdown",
   "metadata": {},
   "source": [
    "Let's first import the relevant for the notebook."
   ]
  },
  {
   "cell_type": "code",
   "execution_count": 1,
   "metadata": {},
   "outputs": [],
   "source": [
    "import aiastereo as aist\n",
    "\n",
    "from sunpy.net import Fido, attrs as a\n",
    "import astropy.units as u\n",
    "\n",
    "import os\n",
    "import sys"
   ]
  },
  {
   "cell_type": "markdown",
   "metadata": {},
   "source": [
    "Let's also define the paths and settings for this run. You can customize the **FITS_DIR** and **FIDO_RESULTS** paths to select where your images and search results are saved."
   ]
  },
  {
   "cell_type": "code",
   "execution_count": null,
   "metadata": {},
   "outputs": [],
   "source": [
    "# Local Paths (customizable)\n",
    "FITS_DIR = './observations/'        # Download folder for FITS images\n",
    "FIDO_RESULTS = './fido_results/'    # Download folder for summary of FIDO query\n",
    "\n",
    "# Settings for this run\n",
    "use_fido = True          # Boolean trigger for using Fido fetch\n",
    "stereo_a = False         # Selects stereo A data if true, and stereo B if false\n",
    "debug = False            # Bypasses user input by using default values for Fido fetch\n"
   ]
  },
  {
   "cell_type": "markdown",
   "metadata": {},
   "source": [
    "Here, we define the start and end time for the fido search. The times must be in the format `####-##-##T##:##`. Type `exit` into the **start_time** prompt to exit the loop."
   ]
  },
  {
   "cell_type": "code",
   "execution_count": 3,
   "metadata": {},
   "outputs": [
    {
     "name": "stdout",
     "output_type": "stream",
     "text": [
      "2013-05-15T04:40\n",
      "2013-05-15T04:50\n"
     ]
    }
   ],
   "source": [
    "# Sets a time range\n",
    "while use_fido:\n",
    "  try:\n",
    "    if debug:\n",
    "      start_time = \"2012-07-19T10:00\"\n",
    "      end_time = \"2012-07-19T11:00\"\n",
    "    else:\n",
    "      # Prompt user for desired time range\n",
    "      # Example: 2012-07-19T10:00, 2012-07-19T11:00\n",
    "      start_time = aist.get_user_input(\"Enter the start time (eg. 2012-07-19T10:00): \")\n",
    "      end_time = aist.get_user_input(\"Enter the end time (eg. 2012-07-19T11:00): \")\n",
    "\n",
    "    # Convert user input to Fido.Time objects\n",
    "    time = a.Time(start_time, end_time)\n",
    "    break\n",
    "  except:\n",
    "    if start_time == 'exit': break\n",
    "    print('Time range not valid. Try again!')\n"
   ]
  },
  {
   "cell_type": "markdown",
   "metadata": {},
   "source": [
    "Let's also define the target **wavelengths** for our images. The wavelengths should be entered separated by commas, such as `171, 195, 304`. Once again, type `exit` into the **wavelength** prompt to exit the loop."
   ]
  },
  {
   "cell_type": "code",
   "execution_count": 4,
   "metadata": {},
   "outputs": [
    {
     "name": "stdout",
     "output_type": "stream",
     "text": [
      "195\n"
     ]
    }
   ],
   "source": [
    "# Sets the target wavelengths\n",
    "while use_fido:\n",
    "  try:\n",
    "    if debug:\n",
    "      wavelengths = '171'\n",
    "    else:\n",
    "      # Prompt user to select desired AIA wavelengths (comma separated)\n",
    "      wavelengths = aist.get_user_input(\"Enter comma-separated AIA wavelengths eg. 171, 195, 304 (Angstroms): \")\n",
    "    \n",
    "    wavs = [a.Wavelength(float(wav)*u.angstrom) for wav in wavelengths.split(\",\")]\n",
    "    break\n",
    "  except:\n",
    "    if wavelengths == 'exit': break\n",
    "    print('Wavelength selection not valid. Try again!')"
   ]
  },
  {
   "cell_type": "markdown",
   "metadata": {},
   "source": [
    "Next, let's use Fido to search for some correlated AIA / STEREO images within the specified parameters. This cell will search for STEREO first due to its limited time cadence, and then will search around available timestamps for a comparable AIA image. For each specified wavelength, it will save a summary of the query results to **FIDO_RESULTS**."
   ]
  },
  {
   "cell_type": "code",
   "execution_count": 8,
   "metadata": {},
   "outputs": [
    {
     "name": "stdout",
     "output_type": "stream",
     "text": [
      "Searching in 195.0 band\n",
      "\n",
      "No AIA in stereo range! \n",
      "Attempting search in 10-minute window...\n",
      "\n",
      "20 AIA images found.\n"
     ]
    }
   ],
   "source": [
    "# Search for one wavelength at a time to ensure match\n",
    "if use_fido:\n",
    "  # Containers for later retrieval of results\n",
    "  aia_results = []\n",
    "  stereo_results = []\n",
    "\n",
    "  for wav in wavs:\n",
    "    print(f\"Searching in {wav.max.value} band\\n\")\n",
    "\n",
    "    aia_wav = wav\n",
    "    stereo_wav = wav\n",
    "\n",
    "    # If the wavelength is 195, search for 193 instead\n",
    "    if stereo_wav == a.Wavelength(float(193)*u.angstrom):\n",
    "      stereo_wav = a.Wavelength(float(195)*u.angstrom)\n",
    "\n",
    "    # Search for STEREO data first\n",
    "    src = 'STEREO_A' if stereo_a else 'STEREO_B'\n",
    "    stereo_result = Fido.search(time, a.Instrument('SECCHI'), a.Source(src), a.Sample(1*u.minute), a.Physobs('Intensity'), stereo_wav)    \n",
    "    n_stereo = stereo_result.__dict__['_numfile']\n",
    "\n",
    "    n_aia = 0\n",
    "    # If STEREO results are found, search for AIA data within that timeframe\n",
    "    if n_stereo == 1:\n",
    "      aia_result = aist.approx_stereo(stereo_result, aia_wav)\n",
    "      n_aia = aia_result.__dict__['_numfile']\n",
    "    elif n_stereo > 1:\n",
    "      time = a.Time(stereo_result[0, 0][\"Start Time\"], stereo_result[-1, 0][\"End Time\"])\n",
    "      aia_result = Fido.search(time, a.Instrument('AIA'), a.Sample(1*u.minute), a.Physobs('Intensity'), aia_wav)\n",
    "      n_aia = aia_result.__dict__['_numfile']\n",
    "      if n_aia == 0:\n",
    "        n_aia = aia_result.__dict__['_numfile']\n",
    "        aia_result = aist.approx_stereo(stereo_result, aia_wav)\n",
    "    else:\n",
    "      print(\"No STEREO results found in the specified timeframe.\")\n",
    "\n",
    "    print(f'{n_aia} AIA images found.')\n",
    "\n",
    "    # Saves the results for next cell\n",
    "    stereo_results.append(stereo_result)\n",
    "    aia_results.append(aia_result)\n",
    "\n",
    "    # Saves the results to local .txt file for easy viewing (notebook may truncate output)\n",
    "    directory_path = FIDO_RESULTS\n",
    "    if not os.path.exists(directory_path):\n",
    "        os.makedirs(directory_path)\n",
    "    file = open(f'{directory_path}{start_time}_{end_time}_{wav.max.value}.txt', 'w')\n",
    "    file.write(str(stereo_result))\n",
    "    file.write(str(aia_result))\n",
    "    file.close()\n",
    "    "
   ]
  },
  {
   "cell_type": "markdown",
   "metadata": {},
   "source": [
    "After executing the cell above, you can review the full list of entries prepared for download at the **FIDO_RESULTS** path. Then, input the index of the entry (`0,1,2,3...`) when promped in the following cell. The selected entries will be downloaded to **FITS_DIR**."
   ]
  },
  {
   "cell_type": "code",
   "execution_count": 9,
   "metadata": {},
   "outputs": [
    {
     "name": "stdout",
     "output_type": "stream",
     "text": [
      "10\n",
      "0\n"
     ]
    },
    {
     "data": {
      "application/vnd.jupyter.widget-view+json": {
       "model_id": "4d189b7c91c44430b0becc5472c61824",
       "version_major": 2,
       "version_minor": 0
      },
      "text/plain": [
       "Files Downloaded:   0%|          | 0/1 [00:00<?, ?file/s]"
      ]
     },
     "metadata": {},
     "output_type": "display_data"
    },
    {
     "data": {
      "application/vnd.jupyter.widget-view+json": {
       "model_id": "59a6040e0218471ebe1a83c6492190a6",
       "version_major": 2,
       "version_minor": 0
      },
      "text/plain": [
       "aia_lev1_193a_2013_05_15t04_40_08_80z_image_lev1.fits:   0%|          | 0.00/10.8M [00:00<?, ?B/s]"
      ]
     },
     "metadata": {},
     "output_type": "display_data"
    },
    {
     "name": "stdout",
     "output_type": "stream",
     "text": [
      "Download errors (AIA): []\n"
     ]
    },
    {
     "data": {
      "application/vnd.jupyter.widget-view+json": {
       "model_id": "d5a42d945e7f4674b0f02cd7b9dc448e",
       "version_major": 2,
       "version_minor": 0
      },
      "text/plain": [
       "Files Downloaded:   0%|          | 0/1 [00:00<?, ?file/s]"
      ]
     },
     "metadata": {},
     "output_type": "display_data"
    },
    {
     "data": {
      "application/vnd.jupyter.widget-view+json": {
       "model_id": "db52fc263e994e96b590f95d113e2d0c",
       "version_major": 2,
       "version_minor": 0
      },
      "text/plain": [
       "20130515_044030_n4eub.fts:   0%|          | 0.00/8.41M [00:00<?, ?B/s]"
      ]
     },
     "metadata": {},
     "output_type": "display_data"
    },
    {
     "name": "stdout",
     "output_type": "stream",
     "text": [
      "Download errors (STEREO): []\n"
     ]
    }
   ],
   "source": [
    "# Allows the user to select which searched event to download\n",
    "if use_fido:\n",
    "  directory_path = FITS_DIR\n",
    "  if not os.path.exists(directory_path):\n",
    "    os.makedirs(directory_path)\n",
    "\n",
    "  for w, wav in enumerate(wavs):\n",
    "      while True:\n",
    "        try:\n",
    "          if debug:\n",
    "            aia_selection = '-1'\n",
    "            stereo_selection = '-1'\n",
    "          else:\n",
    "            # Allow user to select results to download\n",
    "            aia_selection = aist.get_user_input(\"Enter the index of the AIA result to download (or -1 to skip): \")\n",
    "            stereo_selection = aist.get_user_input(\"Enter the index of the STEREO result to download (or -1 to skip): \")\n",
    "\n",
    "          if int(aia_selection) > -1:\n",
    "            aia_sel = aia_results[w][0, int(aia_selection)]\n",
    "            download = Fido.fetch(aia_sel, path=FITS_DIR)\n",
    "            print(\"Download errors (AIA):\", download.errors)\n",
    "\n",
    "          # Download selected STEREO data\n",
    "          if int(stereo_selection) > -1:\n",
    "            stereo_sel = stereo_results[w][0, int(stereo_selection)]\n",
    "            download = Fido.fetch(stereo_sel, path=FITS_DIR)\n",
    "            print(\"Download errors (STEREO):\", download.errors)\n",
    "\n",
    "          break\n",
    "        except:\n",
    "          if aia_selection == 'exit': sys.exit(1)\n",
    "          print('Selection not valid. Try again!')\n"
   ]
  },
  {
   "cell_type": "markdown",
   "metadata": {},
   "source": [
    "You can now continue to pairing and cropping your selected images in [eg_aia_stereo_pair.ipynb](eg_aia_stereo_pair.ipynb)."
   ]
  }
 ],
 "metadata": {
  "kernelspec": {
   "display_name": "rad_transfer",
   "language": "python",
   "name": "python3"
  },
  "language_info": {
   "codemirror_mode": {
    "name": "ipython",
    "version": 3
   },
   "file_extension": ".py",
   "mimetype": "text/x-python",
   "name": "python",
   "nbconvert_exporter": "python",
   "pygments_lexer": "ipython3",
   "version": "3.10.14"
  }
 },
 "nbformat": 4,
 "nbformat_minor": 2
}
