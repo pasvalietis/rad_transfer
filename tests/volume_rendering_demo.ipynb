{
 "cells": [
  {
   "cell_type": "code",
   "execution_count": 76,
   "id": "initial_id",
   "metadata": {
    "collapsed": true,
    "ExecuteTime": {
     "end_time": "2024-02-24T08:26:48.576538014Z",
     "start_time": "2024-02-24T08:26:48.299344147Z"
    }
   },
   "outputs": [
    {
     "name": "stderr",
     "output_type": "stream",
     "text": [
      "yt : [ERROR    ] 2024-02-24 03:26:48,561 Could not enable parallelism: only one mpi process is running. To remedy this, launch the Python interpreter as\n",
      "  mpirun -n <X> python3 <yourscript>.py  # with X > 1 \n"
     ]
    },
    {
     "data": {
      "text/plain": "False"
     },
     "execution_count": 76,
     "metadata": {},
     "output_type": "execute_result"
    }
   ],
   "source": [
    "import os\n",
    "import yt\n",
    "import numpy as np\n",
    "\n",
    "yt.enable_parallelism()"
   ]
  },
  {
   "cell_type": "code",
   "outputs": [
    {
     "name": "stderr",
     "output_type": "stream",
     "text": [
      "yt : [INFO     ] 2024-02-24 03:20:53,069 Parameters: current_time              = 1.200143 code_time\n",
      "yt : [INFO     ] 2024-02-24 03:20:53,072 Parameters: domain_dimensions         = [193 192  96]\n",
      "yt : [INFO     ] 2024-02-24 03:20:53,075 Parameters: domain_left_edge          = [-0.5   0.   -0.25] code_length\n",
      "yt : [INFO     ] 2024-02-24 03:20:53,077 Parameters: domain_right_edge         = [0.50000016 0.99999994 0.24999997] code_length\n",
      "yt : [INFO     ] 2024-02-24 03:20:53,080 Parameters: cosmological_simulation   = 0\n"
     ]
    },
    {
     "data": {
      "text/plain": "'\\n# Print field list\\nsubs_ds.field_list\\nsubs_ds.derived_field_list\\n'"
     },
     "execution_count": 69,
     "metadata": {},
     "output_type": "execute_result"
    }
   ],
   "source": [
    "downs_file_path = '/home/ivan/Study/Astro/solar/rad_transfer/datacubes/subs_3_flarecs-id_0012.h5'\n",
    "subs_ds = yt.load(downs_file_path)\n",
    "'''\n",
    "# Print field list\n",
    "subs_ds.field_list\n",
    "subs_ds.derived_field_list\n",
    "'''"
   ],
   "metadata": {
    "collapsed": false,
    "ExecuteTime": {
     "end_time": "2024-02-24T08:20:54.673027473Z",
     "start_time": "2024-02-24T08:20:52.992991598Z"
    }
   },
   "id": "bba217efa85e1952",
   "execution_count": 69
  },
  {
   "cell_type": "code",
   "outputs": [],
   "source": [
    "# im, sc = yt.volume_render(subs_ds, ('gas', 'density'), fname='/home/ivan/Study/Astro/solar/rad_transfer/img/volumetric_demo/rendering.png')"
   ],
   "metadata": {
    "collapsed": false,
    "ExecuteTime": {
     "end_time": "2024-02-24T08:18:09.821228705Z",
     "start_time": "2024-02-24T08:18:09.814307552Z"
    }
   },
   "id": "3ae8a9c1816a066b",
   "execution_count": 64
  },
  {
   "cell_type": "code",
   "outputs": [
    {
     "name": "stderr",
     "output_type": "stream",
     "text": [
      "yt : [WARNING  ] 2024-02-24 03:25:24,314 No previously rendered image found, rendering now.\n",
      "yt : [INFO     ] 2024-02-24 03:25:24,316 Rendering scene (Can take a while).\n",
      "yt : [INFO     ] 2024-02-24 03:25:24,320 Creating volume\n",
      "yt : [INFO     ] 2024-02-24 03:25:24,727 Saving rendered image to subs_3_flarecs-id_0012.h5_Render_density.png\n"
     ]
    }
   ],
   "source": [
    "sc = yt.create_scene(subs_ds, ('gas', 'density'), lens_type='perspective')\n",
    "#sc.camera.width = (400, 'Mm')\n",
    "source = sc[0]\n",
    "source.tfh.set_bounds((1e8, 1e10))\n",
    "source.tfh.set_log(True)\n",
    "# source.tfh.grey_opacity = False\n",
    "\n",
    "source.transfer_function = yt.ColorTransferFunction(\n",
    "    np.log10((1e8, 1e10)), grey_opacity=True\n",
    ")\n",
    "\n",
    "def linramp(vals, minval, maxval):\n",
    "    return (vals - vals.min()) / (vals.max() - vals.min())\n",
    "\n",
    "source.transfer_function.map_to_colormap(\n",
    "    np.log10(1e8), np.log10(1e10), colormap=\"cmyt.arbre\", scale_func=linramp\n",
    ")\n",
    "\n",
    "#source.set_use_ghost_zones(True)\n",
    "sc.camera.focus = subs_ds.domain_center\n",
    "\n",
    "#sc.camera.normal_vector = [0., 0., 1.]\n",
    "north_vector = [0., 1., 0.]\n",
    "sc.camera.switch_orientation() # (normal_vector=normal_vector, north_vector=north_vector)\n",
    "sc.save()\n",
    "source.tfh.plot('transfer_function.png', profile_field=('gas', 'density'))"
   ],
   "metadata": {
    "collapsed": false,
    "ExecuteTime": {
     "end_time": "2024-02-24T08:25:26.580666678Z",
     "start_time": "2024-02-24T08:25:24.254148046Z"
    }
   },
   "id": "c01a4478f0fd6557",
   "execution_count": 75
  },
  {
   "cell_type": "code",
   "outputs": [
    {
     "data": {
      "text/plain": "\"unyt_array([ 8.20000000e-08,  4.99999968e-01, -1.60000000e-08], 'code_length')\""
     },
     "execution_count": 100,
     "metadata": {},
     "output_type": "execute_result"
    }
   ],
   "source": [
    "repr((subs_ds.domain_center))"
   ],
   "metadata": {
    "collapsed": false,
    "ExecuteTime": {
     "end_time": "2024-02-24T08:48:33.369021897Z",
     "start_time": "2024-02-24T08:48:33.333379776Z"
    }
   },
   "id": "6c096c66f91c7e86",
   "execution_count": 100
  },
  {
   "cell_type": "code",
   "outputs": [
    {
     "name": "stderr",
     "output_type": "stream",
     "text": [
      "yt : [WARNING  ] 2024-02-24 03:52:41,154 No previously rendered image found, rendering now.\n",
      "yt : [INFO     ] 2024-02-24 03:52:41,155 Rendering scene (Can take a while).\n",
      "yt : [INFO     ] 2024-02-24 03:52:41,160 Creating volume\n",
      "yt : [INFO     ] 2024-02-24 03:53:05,928 Saving rendered image to rendering.png\n"
     ]
    }
   ],
   "source": [
    "import unyt\n",
    "sc = yt.create_scene(subs_ds, lens_type='perspective')\n",
    "sc.camera.width = (2.0, 'code_length')\n",
    "source = sc[0]\n",
    "\n",
    "source.set_field(('gas', 'density'))\n",
    "source.set_log(True)\n",
    "bounds = (1e8, 1e10)\n",
    "\n",
    "tf = yt.ColorTransferFunction(np.log10(bounds))\n",
    "tf.add_gaussian(np.log10(1e9), width=0.005, height=[0.753, 1.0, 0.933, 1.0])\n",
    "\n",
    "source.tfh.tf = tf\n",
    "source.tfh.bounds = bounds\n",
    "\n",
    "sc.camera.focus = unyt.unyt_array([8.20000000e-08, 0.25, -1.60000000e-08], 'Mm') # , 'code_length')  # subs_ds.domain_center\n",
    "sc.camera.north_vector = [0, -1., 0.]\n",
    "sc.camera.normal_vector = [-1., -1., -1.]\n",
    "sc.camera.switch_orientation()\n",
    "\n",
    "source.tfh.plot(\"transfer_function_new.png\", profile_field=('gas', 'density'))\n",
    "sc.save('rendering.png', sigma_clip=6)"
   ],
   "metadata": {
    "collapsed": false,
    "ExecuteTime": {
     "end_time": "2024-02-24T08:53:06.132718517Z",
     "start_time": "2024-02-24T08:52:39.607980014Z"
    }
   },
   "id": "2a2baf86e0852c70",
   "execution_count": 109
  },
  {
   "cell_type": "code",
   "outputs": [
    {
     "name": "stderr",
     "output_type": "stream",
     "text": [
      "yt : [WARNING  ] 2024-02-24 03:18:33,196 Previously rendered image exists, but rendering anyway. Supply 'render=False' to save previously rendered image directly.\n",
      "yt : [INFO     ] 2024-02-24 03:18:33,199 Rendering scene (Can take a while).\n",
      "yt : [INFO     ] 2024-02-24 03:18:56,279 Saving rendered image to subs_3_flarecs-id_0012.h5_Render_density.png\n"
     ]
    }
   ],
   "source": [
    "sc.save()\n",
    "?sc.camera.switch_orientation"
   ],
   "metadata": {
    "collapsed": false,
    "ExecuteTime": {
     "end_time": "2024-02-24T08:18:56.495794502Z",
     "start_time": "2024-02-24T08:18:33.198820379Z"
    }
   },
   "id": "4a73baa0e4926f76",
   "execution_count": 67
  },
  {
   "cell_type": "code",
   "outputs": [],
   "source": [],
   "metadata": {
    "collapsed": false,
    "ExecuteTime": {
     "end_time": "2024-02-24T08:18:56.504638312Z",
     "start_time": "2024-02-24T08:18:56.495813971Z"
    }
   },
   "id": "139b3dffa2e41c2e",
   "execution_count": 67
  }
 ],
 "metadata": {
  "kernelspec": {
   "display_name": "Python 3",
   "language": "python",
   "name": "python3"
  },
  "language_info": {
   "codemirror_mode": {
    "name": "ipython",
    "version": 2
   },
   "file_extension": ".py",
   "mimetype": "text/x-python",
   "name": "python",
   "nbconvert_exporter": "python",
   "pygments_lexer": "ipython2",
   "version": "2.7.6"
  }
 },
 "nbformat": 4,
 "nbformat_minor": 5
}
