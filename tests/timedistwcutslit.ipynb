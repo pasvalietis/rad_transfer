{
 "cells": [
  {
   "cell_type": "markdown",
   "source": [
    "### Creating and analyzing time-distance plots with stackplotX.py"
   ],
   "metadata": {
    "collapsed": false,
    "pycharm": {
     "name": "#%% md\n"
    }
   }
  },
  {
   "cell_type": "code",
   "execution_count": 22,
   "outputs": [],
   "source": [
    "# IMPORTS\n",
    "%matplotlib notebook\n",
    "import matplotlib\n",
    "# matplotlib.use('TkAgg')\n",
    "import matplotlib.pyplot as plt\n",
    "import os, sys, re\n",
    "\n",
    "import numpy as np\n",
    "import astropy.units as u\n",
    "from astropy.coordinates import SkyCoord\n",
    "from astropy.time import Time, TimeDelta\n",
    "\n",
    "import sunpy.map\n",
    "from sunpy.net import Fido\n",
    "from sunpy.net import attrs as a\n",
    "import warnings\n",
    "warnings.filterwarnings(\"ignore\")\n",
    "sys.path.insert(0, '/home/ivan/Study/Astro/solar')\n",
    "import matplotlib.colors as colors\n"
   ],
   "metadata": {
    "collapsed": false,
    "pycharm": {
     "name": "#%%\n"
    }
   }
  },
  {
   "cell_type": "code",
   "execution_count": 23,
   "outputs": [],
   "source": [
    "'''\n",
    "To get stackplotX working properly in sunpy 5.0\n",
    "replace the line\n",
    "from sunpy.physics.solar_rotation import mapsequence_solar_derotate\n",
    "with\n",
    "from sunkit_image.coalignment import mapsequence_coalign_by_rotation\n",
    "https://docs.sunpy.org/en/stable/whatsnew/4.0.html\n",
    "'''\n",
    "import stackplotX as stp"
   ],
   "metadata": {
    "collapsed": false,
    "pycharm": {
     "name": "#%%\n"
    }
   }
  },
  {
   "cell_type": "markdown",
   "source": [
    "Loading AIA maps"
   ],
   "metadata": {
    "collapsed": false,
    "pycharm": {
     "name": "#%% md\n"
    }
   }
  },
  {
   "cell_type": "code",
   "execution_count": 17,
   "outputs": [],
   "source": [
    "obs_data_path = '/media/ivan/TOSHIBA EXT/aia_img/maps_part/'\n",
    "start_time = Time('2011-03-07T13:45:26', scale='utc', format='isot')"
   ],
   "metadata": {
    "collapsed": false,
    "pycharm": {
     "name": "#%%\n"
    }
   }
  },
  {
   "cell_type": "markdown",
   "source": [],
   "metadata": {
    "collapsed": false,
    "pycharm": {
     "name": "#%% md\n"
    }
   }
  },
  {
   "cell_type": "code",
   "execution_count": 18,
   "outputs": [],
   "source": [
    "mapsequence = sunpy.map.Map(obs_data_path + '/aia.lev1_euv_12s.2011-03-07T*.fits', sequence=True)"
   ],
   "metadata": {
    "collapsed": false,
    "pycharm": {
     "name": "#%%\n"
    }
   }
  },
  {
   "cell_type": "code",
   "execution_count": 19,
   "outputs": [],
   "source": [
    "st = stp.Stackplot(mapsequence)  # Create a stackplotX Stackplot object"
   ],
   "metadata": {
    "collapsed": false,
    "pycharm": {
     "name": "#%%\n"
    }
   }
  },
  {
   "cell_type": "markdown",
   "source": [
    "Use the mapseq_mkdiff method to create a difference map from your sequence.\n",
    "'mode' refers to the type of difference you wish to calculate:\n",
    "'rratio' for relative ratio,\n",
    "'rdiff' for relative difference,\n",
    "'dtrend' for detrend.\n",
    "'dt' represents the time difference (in seconds) between the current frame and the reference frame."
   ],
   "metadata": {
    "collapsed": false,
    "pycharm": {
     "name": "#%% md\n"
    }
   }
  },
  {
   "cell_type": "code",
   "execution_count": 20,
   "outputs": [
    {
     "name": "stdout",
     "output_type": "stream",
     "text": [
      "making the diff mapseq.....\n"
     ]
    },
    {
     "name": "stderr",
     "output_type": "stream",
     "text": [
      "100%|██████████| 78/78 [00:01<00:00, 46.31it/s]\n"
     ]
    },
    {
     "ename": "ValueError",
     "evalue": "fp and xp are not of the same length.",
     "output_type": "error",
     "traceback": [
      "\u001B[0;31m---------------------------------------------------------------------------\u001B[0m",
      "\u001B[0;31mValueError\u001B[0m                                Traceback (most recent call last)",
      "File \u001B[0;32m~/anaconda3/envs/radcube/lib/python3.9/site-packages/IPython/core/formatters.py:342\u001B[0m, in \u001B[0;36mBaseFormatter.__call__\u001B[0;34m(self, obj)\u001B[0m\n\u001B[1;32m    340\u001B[0m     method \u001B[38;5;241m=\u001B[39m get_real_method(obj, \u001B[38;5;28mself\u001B[39m\u001B[38;5;241m.\u001B[39mprint_method)\n\u001B[1;32m    341\u001B[0m     \u001B[38;5;28;01mif\u001B[39;00m method \u001B[38;5;129;01mis\u001B[39;00m \u001B[38;5;129;01mnot\u001B[39;00m \u001B[38;5;28;01mNone\u001B[39;00m:\n\u001B[0;32m--> 342\u001B[0m         \u001B[38;5;28;01mreturn\u001B[39;00m \u001B[43mmethod\u001B[49m\u001B[43m(\u001B[49m\u001B[43m)\u001B[49m\n\u001B[1;32m    343\u001B[0m     \u001B[38;5;28;01mreturn\u001B[39;00m \u001B[38;5;28;01mNone\u001B[39;00m\n\u001B[1;32m    344\u001B[0m \u001B[38;5;28;01melse\u001B[39;00m:\n",
      "File \u001B[0;32m~/anaconda3/envs/radcube/lib/python3.9/site-packages/sunpy/map/mapsequence.py:105\u001B[0m, in \u001B[0;36mMapSequence._repr_html_\u001B[0;34m(self)\u001B[0m\n\u001B[1;32m    101\u001B[0m     warn_user(\u001B[38;5;124mf\u001B[39m\u001B[38;5;124m\"\u001B[39m\u001B[38;5;124mRendering the summary for a MapSequence of \u001B[39m\u001B[38;5;132;01m{\u001B[39;00mnmaps\u001B[38;5;132;01m}\u001B[39;00m\u001B[38;5;124m Maps \u001B[39m\u001B[38;5;124m\"\u001B[39m\n\u001B[1;32m    102\u001B[0m               \u001B[38;5;124m\"\u001B[39m\u001B[38;5;124mmay take a while.\u001B[39m\u001B[38;5;124m\"\u001B[39m)\n\u001B[1;32m    104\u001B[0m \u001B[38;5;66;03m# Assemble the individual HTML repr from each Map, all hidden initially\u001B[39;00m\n\u001B[0;32m--> 105\u001B[0m repr_list \u001B[38;5;241m=\u001B[39m [\u001B[38;5;124mf\u001B[39m\u001B[38;5;124m\"\u001B[39m\u001B[38;5;124m<div style=\u001B[39m\u001B[38;5;124m'\u001B[39m\u001B[38;5;124mdisplay: none\u001B[39m\u001B[38;5;124m'\u001B[39m\u001B[38;5;124m index=\u001B[39m\u001B[38;5;132;01m{\u001B[39;00mi\u001B[38;5;132;01m}\u001B[39;00m\u001B[38;5;124m>\u001B[39m\u001B[38;5;132;01m{\u001B[39;00mm\u001B[38;5;241m.\u001B[39m_repr_html_()\u001B[38;5;132;01m}\u001B[39;00m\u001B[38;5;124m</div>\u001B[39m\u001B[38;5;124m\"\u001B[39m\n\u001B[1;32m    106\u001B[0m              \u001B[38;5;28;01mfor\u001B[39;00m i, m \u001B[38;5;129;01min\u001B[39;00m \u001B[38;5;28menumerate\u001B[39m(\u001B[38;5;28mself\u001B[39m\u001B[38;5;241m.\u001B[39mmaps)]\n\u001B[1;32m    108\u001B[0m \u001B[38;5;66;03m# Unhide the first Map\u001B[39;00m\n\u001B[1;32m    109\u001B[0m repr_list_html \u001B[38;5;241m=\u001B[39m \u001B[38;5;124m\"\u001B[39m\u001B[38;5;130;01m\\n\u001B[39;00m\u001B[38;5;124m\"\u001B[39m\u001B[38;5;241m.\u001B[39mjoin(repr_list)\u001B[38;5;241m.\u001B[39mreplace(\u001B[38;5;124m'\u001B[39m\u001B[38;5;124mdisplay: none\u001B[39m\u001B[38;5;124m'\u001B[39m, \u001B[38;5;124m'\u001B[39m\u001B[38;5;124mdisplay: \u001B[39m\u001B[38;5;124m'\u001B[39m, \u001B[38;5;241m1\u001B[39m)\n",
      "File \u001B[0;32m~/anaconda3/envs/radcube/lib/python3.9/site-packages/sunpy/map/mapsequence.py:105\u001B[0m, in \u001B[0;36m<listcomp>\u001B[0;34m(.0)\u001B[0m\n\u001B[1;32m    101\u001B[0m     warn_user(\u001B[38;5;124mf\u001B[39m\u001B[38;5;124m\"\u001B[39m\u001B[38;5;124mRendering the summary for a MapSequence of \u001B[39m\u001B[38;5;132;01m{\u001B[39;00mnmaps\u001B[38;5;132;01m}\u001B[39;00m\u001B[38;5;124m Maps \u001B[39m\u001B[38;5;124m\"\u001B[39m\n\u001B[1;32m    102\u001B[0m               \u001B[38;5;124m\"\u001B[39m\u001B[38;5;124mmay take a while.\u001B[39m\u001B[38;5;124m\"\u001B[39m)\n\u001B[1;32m    104\u001B[0m \u001B[38;5;66;03m# Assemble the individual HTML repr from each Map, all hidden initially\u001B[39;00m\n\u001B[0;32m--> 105\u001B[0m repr_list \u001B[38;5;241m=\u001B[39m [\u001B[38;5;124mf\u001B[39m\u001B[38;5;124m\"\u001B[39m\u001B[38;5;124m<div style=\u001B[39m\u001B[38;5;124m'\u001B[39m\u001B[38;5;124mdisplay: none\u001B[39m\u001B[38;5;124m'\u001B[39m\u001B[38;5;124m index=\u001B[39m\u001B[38;5;132;01m{\u001B[39;00mi\u001B[38;5;132;01m}\u001B[39;00m\u001B[38;5;124m>\u001B[39m\u001B[38;5;132;01m{\u001B[39;00m\u001B[43mm\u001B[49m\u001B[38;5;241;43m.\u001B[39;49m\u001B[43m_repr_html_\u001B[49m\u001B[43m(\u001B[49m\u001B[43m)\u001B[49m\u001B[38;5;132;01m}\u001B[39;00m\u001B[38;5;124m</div>\u001B[39m\u001B[38;5;124m\"\u001B[39m\n\u001B[1;32m    106\u001B[0m              \u001B[38;5;28;01mfor\u001B[39;00m i, m \u001B[38;5;129;01min\u001B[39;00m \u001B[38;5;28menumerate\u001B[39m(\u001B[38;5;28mself\u001B[39m\u001B[38;5;241m.\u001B[39mmaps)]\n\u001B[1;32m    108\u001B[0m \u001B[38;5;66;03m# Unhide the first Map\u001B[39;00m\n\u001B[1;32m    109\u001B[0m repr_list_html \u001B[38;5;241m=\u001B[39m \u001B[38;5;124m\"\u001B[39m\u001B[38;5;130;01m\\n\u001B[39;00m\u001B[38;5;124m\"\u001B[39m\u001B[38;5;241m.\u001B[39mjoin(repr_list)\u001B[38;5;241m.\u001B[39mreplace(\u001B[38;5;124m'\u001B[39m\u001B[38;5;124mdisplay: none\u001B[39m\u001B[38;5;124m'\u001B[39m, \u001B[38;5;124m'\u001B[39m\u001B[38;5;124mdisplay: \u001B[39m\u001B[38;5;124m'\u001B[39m, \u001B[38;5;241m1\u001B[39m)\n",
      "File \u001B[0;32m~/anaconda3/envs/radcube/lib/python3.9/site-packages/sunpy/map/mapbase.py:416\u001B[0m, in \u001B[0;36mGenericMap._repr_html_\u001B[0;34m(self, compute_dask)\u001B[0m\n\u001B[1;32m    414\u001B[0m ax \u001B[38;5;241m=\u001B[39m fig\u001B[38;5;241m.\u001B[39msubplots()\n\u001B[1;32m    415\u001B[0m n_bins \u001B[38;5;241m=\u001B[39m \u001B[38;5;241m256\u001B[39m\n\u001B[0;32m--> 416\u001B[0m bins \u001B[38;5;241m=\u001B[39m \u001B[43mnorm\u001B[49m\u001B[38;5;241;43m.\u001B[39;49m\u001B[43minverse\u001B[49m\u001B[43m(\u001B[49m\u001B[43mnp\u001B[49m\u001B[38;5;241;43m.\u001B[39;49m\u001B[43marange\u001B[49m\u001B[43m(\u001B[49m\u001B[43mn_bins\u001B[49m\u001B[43m \u001B[49m\u001B[38;5;241;43m+\u001B[39;49m\u001B[43m \u001B[49m\u001B[38;5;241;43m1\u001B[39;49m\u001B[43m)\u001B[49m\u001B[43m \u001B[49m\u001B[38;5;241;43m/\u001B[39;49m\u001B[43m \u001B[49m\u001B[43mn_bins\u001B[49m\u001B[43m)\u001B[49m\n\u001B[1;32m    417\u001B[0m values, _, patches \u001B[38;5;241m=\u001B[39m ax\u001B[38;5;241m.\u001B[39mhist(finite_data\u001B[38;5;241m.\u001B[39mravel(), bins\u001B[38;5;241m=\u001B[39mbins, cumulative\u001B[38;5;241m=\u001B[39m\u001B[38;5;28;01mTrue\u001B[39;00m)\n\u001B[1;32m    418\u001B[0m \u001B[38;5;28;01mfor\u001B[39;00m i, p \u001B[38;5;129;01min\u001B[39;00m \u001B[38;5;28menumerate\u001B[39m(patches):\n",
      "File \u001B[0;32m~/anaconda3/envs/radcube/lib/python3.9/site-packages/astropy/visualization/mpl_normalize.py:200\u001B[0m, in \u001B[0;36mImageNormalize.inverse\u001B[0;34m(self, values, invalid)\u001B[0m\n\u001B[1;32m    198\u001B[0m     values_norm \u001B[38;5;241m=\u001B[39m \u001B[38;5;28mself\u001B[39m\u001B[38;5;241m.\u001B[39minverse_stretch(values, clip\u001B[38;5;241m=\u001B[39m\u001B[38;5;28;01mFalse\u001B[39;00m, invalid\u001B[38;5;241m=\u001B[39minvalid)\n\u001B[1;32m    199\u001B[0m \u001B[38;5;28;01melse\u001B[39;00m:\n\u001B[0;32m--> 200\u001B[0m     values_norm \u001B[38;5;241m=\u001B[39m \u001B[38;5;28;43mself\u001B[39;49m\u001B[38;5;241;43m.\u001B[39;49m\u001B[43minverse_stretch\u001B[49m\u001B[43m(\u001B[49m\u001B[43mvalues\u001B[49m\u001B[43m,\u001B[49m\u001B[43m \u001B[49m\u001B[43mclip\u001B[49m\u001B[38;5;241;43m=\u001B[39;49m\u001B[38;5;28;43;01mFalse\u001B[39;49;00m\u001B[43m)\u001B[49m\n\u001B[1;32m    202\u001B[0m \u001B[38;5;66;03m# Scale to original range\u001B[39;00m\n\u001B[1;32m    203\u001B[0m \u001B[38;5;28;01mreturn\u001B[39;00m values_norm \u001B[38;5;241m*\u001B[39m (\u001B[38;5;28mself\u001B[39m\u001B[38;5;241m.\u001B[39mvmax \u001B[38;5;241m-\u001B[39m \u001B[38;5;28mself\u001B[39m\u001B[38;5;241m.\u001B[39mvmin) \u001B[38;5;241m+\u001B[39m \u001B[38;5;28mself\u001B[39m\u001B[38;5;241m.\u001B[39mvmin\n",
      "File \u001B[0;32m~/anaconda3/envs/radcube/lib/python3.9/site-packages/astropy/visualization/stretch.py:618\u001B[0m, in \u001B[0;36mInvertedHistEqStretch.__call__\u001B[0;34m(self, values, clip, out)\u001B[0m\n\u001B[1;32m    616\u001B[0m \u001B[38;5;28;01mdef\u001B[39;00m \u001B[38;5;21m__call__\u001B[39m(\u001B[38;5;28mself\u001B[39m, values, clip\u001B[38;5;241m=\u001B[39m\u001B[38;5;28;01mTrue\u001B[39;00m, out\u001B[38;5;241m=\u001B[39m\u001B[38;5;28;01mNone\u001B[39;00m):\n\u001B[1;32m    617\u001B[0m     values \u001B[38;5;241m=\u001B[39m _prepare(values, clip\u001B[38;5;241m=\u001B[39mclip, out\u001B[38;5;241m=\u001B[39mout)\n\u001B[0;32m--> 618\u001B[0m     values[:] \u001B[38;5;241m=\u001B[39m \u001B[43mnp\u001B[49m\u001B[38;5;241;43m.\u001B[39;49m\u001B[43minterp\u001B[49m\u001B[43m(\u001B[49m\u001B[43mvalues\u001B[49m\u001B[43m,\u001B[49m\u001B[43m \u001B[49m\u001B[38;5;28;43mself\u001B[39;49m\u001B[38;5;241;43m.\u001B[39;49m\u001B[43mvalues\u001B[49m\u001B[43m,\u001B[49m\u001B[43m \u001B[49m\u001B[38;5;28;43mself\u001B[39;49m\u001B[38;5;241;43m.\u001B[39;49m\u001B[43mdata\u001B[49m\u001B[43m)\u001B[49m\n\u001B[1;32m    619\u001B[0m     \u001B[38;5;28;01mreturn\u001B[39;00m values\n",
      "File \u001B[0;32m<__array_function__ internals>:180\u001B[0m, in \u001B[0;36minterp\u001B[0;34m(*args, **kwargs)\u001B[0m\n",
      "File \u001B[0;32m~/anaconda3/envs/radcube/lib/python3.9/site-packages/numpy/lib/function_base.py:1594\u001B[0m, in \u001B[0;36minterp\u001B[0;34m(x, xp, fp, left, right, period)\u001B[0m\n\u001B[1;32m   1591\u001B[0m     xp \u001B[38;5;241m=\u001B[39m np\u001B[38;5;241m.\u001B[39mconcatenate((xp[\u001B[38;5;241m-\u001B[39m\u001B[38;5;241m1\u001B[39m:]\u001B[38;5;241m-\u001B[39mperiod, xp, xp[\u001B[38;5;241m0\u001B[39m:\u001B[38;5;241m1\u001B[39m]\u001B[38;5;241m+\u001B[39mperiod))\n\u001B[1;32m   1592\u001B[0m     fp \u001B[38;5;241m=\u001B[39m np\u001B[38;5;241m.\u001B[39mconcatenate((fp[\u001B[38;5;241m-\u001B[39m\u001B[38;5;241m1\u001B[39m:], fp, fp[\u001B[38;5;241m0\u001B[39m:\u001B[38;5;241m1\u001B[39m]))\n\u001B[0;32m-> 1594\u001B[0m \u001B[38;5;28;01mreturn\u001B[39;00m \u001B[43minterp_func\u001B[49m\u001B[43m(\u001B[49m\u001B[43mx\u001B[49m\u001B[43m,\u001B[49m\u001B[43m \u001B[49m\u001B[43mxp\u001B[49m\u001B[43m,\u001B[49m\u001B[43m \u001B[49m\u001B[43mfp\u001B[49m\u001B[43m,\u001B[49m\u001B[43m \u001B[49m\u001B[43mleft\u001B[49m\u001B[43m,\u001B[49m\u001B[43m \u001B[49m\u001B[43mright\u001B[49m\u001B[43m)\u001B[49m\n",
      "\u001B[0;31mValueError\u001B[0m: fp and xp are not of the same length."
     ]
    },
    {
     "data": {
      "text/plain": "<sunpy.map.mapsequence.MapSequence object at 0x7f860c16dca0>\nMapSequence of 78 elements, with maps from AIAMap"
     },
     "execution_count": 20,
     "metadata": {},
     "output_type": "execute_result"
    }
   ],
   "source": [
    "st.mapseq_mkdiff(mode='rratio', dt=14.)"
   ],
   "metadata": {
    "collapsed": false,
    "pycharm": {
     "name": "#%%\n"
    }
   }
  },
  {
   "cell_type": "markdown",
   "source": [
    "Use the plot_mapseq method to visualize the difference map sequence.\n",
    "Set 'diff=True' to indicate that a difference map is to be plotted.\n",
    "'norm' refers to the color normalization option for the map.\n",
    "Note: you can interact with the pop-up window to modify the map. A left-click adds a new anchor point for the slit on the map, while a right-click removes the latest modification."
   ],
   "metadata": {
    "collapsed": false,
    "pycharm": {
     "name": "#%% md\n"
    }
   }
  },
  {
   "cell_type": "code",
   "execution_count": 21,
   "outputs": [
    {
     "name": "stdout",
     "output_type": "stream",
     "text": [
      "[-463.92158627 -113.46962336  202.38255521  551.13941367]\n"
     ]
    },
    {
     "data": {
      "text/plain": "<AxesSubplot: title={'center': ' SDO AIA 131.0 Angstrom 2011-03-07T16:50:09.618'}, xlabel='X-position [arcsec]', ylabel='Y-position [arcsec]'>"
     },
     "execution_count": 21,
     "metadata": {},
     "output_type": "execute_result"
    }
   ],
   "source": [
    "st.plot_mapseq(diff=True, norm=colors.Normalize(vmin=0.1, vmax=2.4))"
   ],
   "metadata": {
    "collapsed": false,
    "pycharm": {
     "name": "#%%\n"
    }
   }
  },
  {
   "cell_type": "code",
   "execution_count": 21,
   "outputs": [],
   "source": [],
   "metadata": {
    "collapsed": false,
    "pycharm": {
     "name": "#%%\n"
    }
   }
  }
 ],
 "metadata": {
  "kernelspec": {
   "display_name": "Python 3",
   "language": "python",
   "name": "python3"
  },
  "language_info": {
   "codemirror_mode": {
    "name": "ipython",
    "version": 2
   },
   "file_extension": ".py",
   "mimetype": "text/x-python",
   "name": "python",
   "nbconvert_exporter": "python",
   "pygments_lexer": "ipython2",
   "version": "2.7.6"
  }
 },
 "nbformat": 4,
 "nbformat_minor": 0
}