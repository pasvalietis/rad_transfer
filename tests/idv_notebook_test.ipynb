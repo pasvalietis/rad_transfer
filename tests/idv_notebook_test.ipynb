{
 "cells": [
  {
   "cell_type": "code",
   "execution_count": 1,
   "id": "initial_id",
   "metadata": {
    "collapsed": true,
    "ExecuteTime": {
     "end_time": "2024-02-27T20:22:18.570918586Z",
     "start_time": "2024-02-27T20:22:10.451831535Z"
    }
   },
   "outputs": [],
   "source": [
    "import os, sys\n",
    "\n",
    "import yt\n",
    "import yt_idv\n",
    "\n",
    "sys.path.insert(0, '/home/ivan/Study/Astro/solar')\n",
    "from rad_transfer.visualization.colormaps import color_tables\n",
    "from rad_transfer.utils.proj_imag import SyntheticFilterImage as synt_img\n",
    "from rad_transfer.emission_models import uv, xrt"
   ]
  },
  {
   "cell_type": "code",
   "outputs": [
    {
     "name": "stderr",
     "output_type": "stream",
     "text": [
      "yt : [INFO     ] 2024-02-27 15:22:21,179 Parameters: current_time              = 1.200143 code_time\n",
      "yt : [INFO     ] 2024-02-27 15:22:21,180 Parameters: domain_dimensions         = [193 192  96]\n",
      "yt : [INFO     ] 2024-02-27 15:22:21,181 Parameters: domain_left_edge          = [-0.5   0.   -0.25] code_length\n",
      "yt : [INFO     ] 2024-02-27 15:22:21,183 Parameters: domain_right_edge         = [0.50000016 0.99999994 0.24999997] code_length\n",
      "yt : [INFO     ] 2024-02-27 15:22:21,185 Parameters: cosmological_simulation   = 0\n"
     ]
    }
   ],
   "source": [
    "downs_file_path = '/home/ivan/Study/Astro/solar/rad_transfer/datacubes/subs_3_flarecs-id_0012.h5'\n",
    "subs_ds = yt.load(downs_file_path)\n"
   ],
   "metadata": {
    "collapsed": false,
    "ExecuteTime": {
     "end_time": "2024-02-27T20:22:22.566059195Z",
     "start_time": "2024-02-27T20:22:20.964092943Z"
    }
   },
   "id": "c2b188f4319a7347",
   "execution_count": 2
  },
  {
   "cell_type": "code",
   "outputs": [
    {
     "name": "stdout",
     "output_type": "stream",
     "text": [
      "Setting position 560.0 140.0\n"
     ]
    }
   ],
   "source": [
    "rc = yt_idv.render_context(height=800, width=800, gui=True)\n",
    "sg = rc.add_scene(subs_ds, \"temperature\", no_ghost=True)"
   ],
   "metadata": {
    "collapsed": false,
    "ExecuteTime": {
     "end_time": "2024-02-27T20:22:33.744332419Z",
     "start_time": "2024-02-27T20:22:30.141539628Z"
    }
   },
   "id": "935cea28c8df691c",
   "execution_count": 3
  },
  {
   "cell_type": "code",
   "outputs": [
    {
     "name": "stderr",
     "output_type": "stream",
     "text": [
      "\n",
      "KeyboardInterrupt\n",
      "\n"
     ]
    }
   ],
   "source": [
    "rc.run()"
   ],
   "metadata": {
    "collapsed": false,
    "ExecuteTime": {
     "end_time": "2024-02-27T20:31:58.103047676Z",
     "start_time": "2024-02-27T20:27:59.571456650Z"
    }
   },
   "id": "e5f88c7c48472117",
   "execution_count": 5
  },
  {
   "cell_type": "code",
   "outputs": [],
   "source": [],
   "metadata": {
    "collapsed": false
   },
   "id": "98abfeb19a40871"
  }
 ],
 "metadata": {
  "kernelspec": {
   "display_name": "Python 3",
   "language": "python",
   "name": "python3"
  },
  "language_info": {
   "codemirror_mode": {
    "name": "ipython",
    "version": 2
   },
   "file_extension": ".py",
   "mimetype": "text/x-python",
   "name": "python",
   "nbconvert_exporter": "python",
   "pygments_lexer": "ipython2",
   "version": "2.7.6"
  }
 },
 "nbformat": 4,
 "nbformat_minor": 5
}
